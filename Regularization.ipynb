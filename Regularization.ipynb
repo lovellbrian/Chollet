{
  "nbformat": 4,
  "nbformat_minor": 0,
  "metadata": {
    "colab": {
      "name": "Regularization.ipynb",
      "provenance": [],
      "authorship_tag": "ABX9TyMynkisOx6zGmmNJnXgDYX6",
      "include_colab_link": true
    },
    "kernelspec": {
      "name": "python3",
      "display_name": "Python 3"
    },
    "language_info": {
      "name": "python"
    },
    "accelerator": "GPU"
  },
  "cells": [
    {
      "cell_type": "markdown",
      "metadata": {
        "id": "view-in-github",
        "colab_type": "text"
      },
      "source": [
        "<a href=\"https://colab.research.google.com/github/lovellbrian/Chollet/blob/main/Regularization.ipynb\" target=\"_parent\"><img src=\"https://colab.research.google.com/assets/colab-badge.svg\" alt=\"Open In Colab\"/></a>"
      ]
    },
    {
      "cell_type": "markdown",
      "metadata": {
        "id": "VKiAmkna2vJo"
      },
      "source": [
        "Chollet  p105\n",
        "\n",
        "On the other hand, if the network has limited memorization resources, it won’t be\n",
        "able to learn this mapping as easily; thus, in order to minimize its loss, it will have to\n",
        "resort to learning compressed representations that have predictive power regarding\n",
        "the targets—precisely the type of representations we’re interested in. At the same\n",
        "time, keep in mind that you should use models that have enough parameters that they\n",
        "don’t underfit: your model shouldn’t be starved for memorization resources. There is\n",
        "a compromise to be found between too much capacity and not enough capacity.\n",
        "Unfortunately, there is no magical formula to determine the right number of layers\n",
        "or the right size for each layer. You must evaluate an array of different architectures\n",
        "(on your validation set, not on your test set, of course) in order to find the\n",
        "correct model size for your data. The general workflow to find an appropriate model\n",
        "size is to start with relatively few layers and parameters, and increase the size of the layers\n",
        "or add new layers until you see diminishing returns with regard to validation loss.\n",
        "Let’s try this on the movie-review classification network. The original network is\n",
        "shown next.\n",
        "\n",
        "\n"
      ]
    },
    {
      "cell_type": "code",
      "metadata": {
        "id": "UTE3n4qr2rQK"
      },
      "source": [
        "from keras import models\n",
        "from keras import layers\n",
        "model = models.Sequential()\n",
        "model.add(layers.Dense(16, activation='relu', input_shape=(10000,)))\n",
        "model.add(layers.Dense(16, activation='relu'))\n",
        "model.add(layers.Dense(1, activation='sigmoid'))"
      ],
      "execution_count": 28,
      "outputs": []
    },
    {
      "cell_type": "markdown",
      "metadata": {
        "id": "tGWnBT1w3GSS"
      },
      "source": [
        "Now let’s try to replace it with this smaller network."
      ]
    },
    {
      "cell_type": "code",
      "metadata": {
        "id": "ZsjKMps23Hbx"
      },
      "source": [
        "model = models.Sequential()\n",
        "model.add(layers.Dense(4, activation='relu', input_shape=(10000,)))\n",
        "model.add(layers.Dense(4, activation='relu'))\n",
        "model.add(layers.Dense(1, activation='sigmoid'))"
      ],
      "execution_count": 29,
      "outputs": []
    },
    {
      "cell_type": "markdown",
      "metadata": {
        "id": "2qgqAz8jUBy1"
      },
      "source": [
        "Original Model"
      ]
    },
    {
      "cell_type": "code",
      "metadata": {
        "id": "WMwzClH4pJG7",
        "colab": {
          "base_uri": "https://localhost:8080/"
        },
        "outputId": "c4c193f4-effd-48d1-c3cb-cd2cb7dc41ef"
      },
      "source": [
        "from keras.datasets import imdb\n",
        "(train_data, train_labels), (test_data, test_labels) = imdb.load_data(num_words=10000)\n",
        "\n",
        "import numpy as np\n",
        "# np.warnings.filterwarnings('ignore', category=np.VisibleDeprecationWarning) # turn off some warnings\n",
        "def vectorize_sequences(sequences, dimension=10000):\n",
        "  results = np.zeros((len(sequences), dimension))\n",
        "  for i, sequence in enumerate(sequences):\n",
        "    results[i, sequence] = 1.\n",
        "  return results\n",
        "x_train = vectorize_sequences(train_data)\n",
        "x_test = vectorize_sequences(test_data)\n",
        "\n",
        "y_train = np.asarray(train_labels).astype('float32')\n",
        "y_test = np.asarray(test_labels).astype('float32')\n",
        "\n",
        "from keras import models\n",
        "from keras import layers\n",
        "\n",
        "x_val = x_train[:10000]\n",
        "partial_x_train = x_train[10000:]\n",
        "\n",
        "y_val = y_train[:10000]\n",
        "partial_y_train = y_train[10000:]\n",
        "\n",
        "from keras import optimizers\n"
      ],
      "execution_count": 30,
      "outputs": [
        {
          "output_type": "stream",
          "text": [
            "<string>:6: VisibleDeprecationWarning: Creating an ndarray from ragged nested sequences (which is a list-or-tuple of lists-or-tuples-or ndarrays with different lengths or shapes) is deprecated. If you meant to do this, you must specify 'dtype=object' when creating the ndarray\n",
            "/usr/local/lib/python3.7/dist-packages/keras/datasets/imdb.py:155: VisibleDeprecationWarning: Creating an ndarray from ragged nested sequences (which is a list-or-tuple of lists-or-tuples-or ndarrays with different lengths or shapes) is deprecated. If you meant to do this, you must specify 'dtype=object' when creating the ndarray\n",
            "  x_train, y_train = np.array(xs[:idx]), np.array(labels[:idx])\n",
            "/usr/local/lib/python3.7/dist-packages/keras/datasets/imdb.py:156: VisibleDeprecationWarning: Creating an ndarray from ragged nested sequences (which is a list-or-tuple of lists-or-tuples-or ndarrays with different lengths or shapes) is deprecated. If you meant to do this, you must specify 'dtype=object' when creating the ndarray\n",
            "  x_test, y_test = np.array(xs[idx:]), np.array(labels[idx:])\n"
          ],
          "name": "stderr"
        }
      ]
    },
    {
      "cell_type": "code",
      "metadata": {
        "colab": {
          "base_uri": "https://localhost:8080/"
        },
        "id": "VsPzZZxZDIR1",
        "outputId": "a9b06cd3-6d05-48b6-86b3-e5578bdc7a56"
      },
      "source": [
        "# Original model\n",
        "model = models.Sequential()\n",
        "model.add(layers.Dense(16, activation='relu', input_shape=(10000,)))\n",
        "model.add(layers.Dense(16, activation='relu'))\n",
        "model.add(layers.Dense(1, activation='sigmoid'))\n",
        "\n",
        "model.compile(optimizer='rmsprop',\n",
        "loss='binary_crossentropy',\n",
        "metrics=['acc'])\n",
        "history = model.fit(partial_x_train,\n",
        "partial_y_train,\n",
        "epochs=20,\n",
        "batch_size=512,\n",
        "validation_data=(x_val, y_val))\n",
        "\n",
        "history_dict = history.history\n",
        "loss_values = history_dict['loss']\n",
        "val_loss_values_orig = history_dict['val_loss']\n",
        "\n"
      ],
      "execution_count": 31,
      "outputs": [
        {
          "output_type": "stream",
          "text": [
            "Epoch 1/20\n",
            "30/30 [==============================] - 2s 33ms/step - loss: 0.6050 - acc: 0.7079 - val_loss: 0.4207 - val_acc: 0.8583\n",
            "Epoch 2/20\n",
            "30/30 [==============================] - 1s 21ms/step - loss: 0.3615 - acc: 0.8912 - val_loss: 0.3267 - val_acc: 0.8858\n",
            "Epoch 3/20\n",
            "30/30 [==============================] - 1s 21ms/step - loss: 0.2582 - acc: 0.9217 - val_loss: 0.2863 - val_acc: 0.8926\n",
            "Epoch 4/20\n",
            "30/30 [==============================] - 1s 20ms/step - loss: 0.1989 - acc: 0.9369 - val_loss: 0.2880 - val_acc: 0.8845\n",
            "Epoch 5/20\n",
            "30/30 [==============================] - 1s 23ms/step - loss: 0.1621 - acc: 0.9510 - val_loss: 0.2739 - val_acc: 0.8912\n",
            "Epoch 6/20\n",
            "30/30 [==============================] - 1s 20ms/step - loss: 0.1330 - acc: 0.9610 - val_loss: 0.2906 - val_acc: 0.8853\n",
            "Epoch 7/20\n",
            "30/30 [==============================] - 1s 20ms/step - loss: 0.1074 - acc: 0.9707 - val_loss: 0.2938 - val_acc: 0.8841\n",
            "Epoch 8/20\n",
            "30/30 [==============================] - 1s 20ms/step - loss: 0.0904 - acc: 0.9769 - val_loss: 0.3121 - val_acc: 0.8819\n",
            "Epoch 9/20\n",
            "30/30 [==============================] - 1s 20ms/step - loss: 0.0804 - acc: 0.9776 - val_loss: 0.3323 - val_acc: 0.8831\n",
            "Epoch 10/20\n",
            "30/30 [==============================] - 1s 24ms/step - loss: 0.0628 - acc: 0.9852 - val_loss: 0.3475 - val_acc: 0.8804\n",
            "Epoch 11/20\n",
            "30/30 [==============================] - 1s 20ms/step - loss: 0.0514 - acc: 0.9880 - val_loss: 0.3764 - val_acc: 0.8808\n",
            "Epoch 12/20\n",
            "30/30 [==============================] - 1s 24ms/step - loss: 0.0405 - acc: 0.9921 - val_loss: 0.4020 - val_acc: 0.8779\n",
            "Epoch 13/20\n",
            "30/30 [==============================] - 1s 20ms/step - loss: 0.0339 - acc: 0.9931 - val_loss: 0.4482 - val_acc: 0.8759\n",
            "Epoch 14/20\n",
            "30/30 [==============================] - 1s 20ms/step - loss: 0.0277 - acc: 0.9951 - val_loss: 0.4981 - val_acc: 0.8631\n",
            "Epoch 15/20\n",
            "30/30 [==============================] - 1s 20ms/step - loss: 0.0216 - acc: 0.9971 - val_loss: 0.5030 - val_acc: 0.8734\n",
            "Epoch 16/20\n",
            "30/30 [==============================] - 1s 19ms/step - loss: 0.0172 - acc: 0.9974 - val_loss: 0.5370 - val_acc: 0.8706\n",
            "Epoch 17/20\n",
            "30/30 [==============================] - 1s 24ms/step - loss: 0.0114 - acc: 0.9991 - val_loss: 0.5737 - val_acc: 0.8709\n",
            "Epoch 18/20\n",
            "30/30 [==============================] - 1s 21ms/step - loss: 0.0088 - acc: 0.9996 - val_loss: 0.6098 - val_acc: 0.8691\n",
            "Epoch 19/20\n",
            "30/30 [==============================] - 1s 20ms/step - loss: 0.0071 - acc: 0.9995 - val_loss: 0.6456 - val_acc: 0.8672\n",
            "Epoch 20/20\n",
            "30/30 [==============================] - 1s 19ms/step - loss: 0.0050 - acc: 0.9997 - val_loss: 0.7434 - val_acc: 0.8539\n"
          ],
          "name": "stdout"
        }
      ]
    },
    {
      "cell_type": "markdown",
      "metadata": {
        "id": "jyW3SC2BUVjF"
      },
      "source": [
        "Smaller Model"
      ]
    },
    {
      "cell_type": "code",
      "metadata": {
        "id": "bHZgS6JoPje7",
        "colab": {
          "base_uri": "https://localhost:8080/"
        },
        "outputId": "e85336cc-4072-4559-e223-ecadd01b8185"
      },
      "source": [
        "# Smaller model\n",
        "model = models.Sequential()\n",
        "model.add(layers.Dense(4, activation='relu', input_shape=(10000,)))\n",
        "model.add(layers.Dense(4, activation='relu'))\n",
        "model.add(layers.Dense(1, activation='sigmoid'))\n",
        "\n",
        "model.compile(optimizer='rmsprop',\n",
        "loss='binary_crossentropy',\n",
        "metrics=['acc'])\n",
        "history = model.fit(partial_x_train,\n",
        "partial_y_train,\n",
        "epochs=20,\n",
        "batch_size=512,\n",
        "validation_data=(x_val, y_val))\n",
        "\n",
        "history_dict = history.history\n",
        "loss_values = history_dict['loss']\n",
        "val_loss_values_small = history_dict['val_loss']\n",
        "\n"
      ],
      "execution_count": 44,
      "outputs": [
        {
          "output_type": "stream",
          "text": [
            "Epoch 1/20\n",
            "30/30 [==============================] - 2s 36ms/step - loss: 0.6206 - acc: 0.6885 - val_loss: 0.4477 - val_acc: 0.8554\n",
            "Epoch 2/20\n",
            "30/30 [==============================] - 1s 19ms/step - loss: 0.3974 - acc: 0.8847 - val_loss: 0.3605 - val_acc: 0.8759\n",
            "Epoch 3/20\n",
            "30/30 [==============================] - 1s 19ms/step - loss: 0.3006 - acc: 0.9126 - val_loss: 0.3156 - val_acc: 0.8831\n",
            "Epoch 4/20\n",
            "30/30 [==============================] - 1s 20ms/step - loss: 0.2402 - acc: 0.9326 - val_loss: 0.2901 - val_acc: 0.8905\n",
            "Epoch 5/20\n",
            "30/30 [==============================] - 1s 20ms/step - loss: 0.1970 - acc: 0.9474 - val_loss: 0.2819 - val_acc: 0.8893\n",
            "Epoch 6/20\n",
            "30/30 [==============================] - 1s 19ms/step - loss: 0.1769 - acc: 0.9469 - val_loss: 0.2761 - val_acc: 0.8900\n",
            "Epoch 7/20\n",
            "30/30 [==============================] - 1s 19ms/step - loss: 0.1523 - acc: 0.9574 - val_loss: 0.2756 - val_acc: 0.8895\n",
            "Epoch 8/20\n",
            "30/30 [==============================] - 1s 19ms/step - loss: 0.1316 - acc: 0.9638 - val_loss: 0.2933 - val_acc: 0.8827\n",
            "Epoch 9/20\n",
            "30/30 [==============================] - 1s 20ms/step - loss: 0.1158 - acc: 0.9701 - val_loss: 0.2854 - val_acc: 0.8868\n",
            "Epoch 10/20\n",
            "30/30 [==============================] - 1s 20ms/step - loss: 0.0996 - acc: 0.9760 - val_loss: 0.2949 - val_acc: 0.8843\n",
            "Epoch 11/20\n",
            "30/30 [==============================] - 1s 21ms/step - loss: 0.0926 - acc: 0.9762 - val_loss: 0.3032 - val_acc: 0.8839\n",
            "Epoch 12/20\n",
            "30/30 [==============================] - 1s 20ms/step - loss: 0.0816 - acc: 0.9825 - val_loss: 0.3194 - val_acc: 0.8832\n",
            "Epoch 13/20\n",
            "30/30 [==============================] - 1s 20ms/step - loss: 0.0728 - acc: 0.9840 - val_loss: 0.3268 - val_acc: 0.8804\n",
            "Epoch 14/20\n",
            "30/30 [==============================] - 1s 19ms/step - loss: 0.0641 - acc: 0.9865 - val_loss: 0.3524 - val_acc: 0.8758\n",
            "Epoch 15/20\n",
            "30/30 [==============================] - 1s 20ms/step - loss: 0.0555 - acc: 0.9893 - val_loss: 0.3587 - val_acc: 0.8766\n",
            "Epoch 16/20\n",
            "30/30 [==============================] - 1s 20ms/step - loss: 0.0472 - acc: 0.9911 - val_loss: 0.3701 - val_acc: 0.8787\n",
            "Epoch 17/20\n",
            "30/30 [==============================] - 1s 20ms/step - loss: 0.0438 - acc: 0.9923 - val_loss: 0.3873 - val_acc: 0.8759\n",
            "Epoch 18/20\n",
            "30/30 [==============================] - 1s 19ms/step - loss: 0.0367 - acc: 0.9937 - val_loss: 0.4147 - val_acc: 0.8721\n",
            "Epoch 19/20\n",
            "30/30 [==============================] - 1s 19ms/step - loss: 0.0324 - acc: 0.9952 - val_loss: 0.4225 - val_acc: 0.8741\n",
            "Epoch 20/20\n",
            "30/30 [==============================] - 1s 19ms/step - loss: 0.0287 - acc: 0.9956 - val_loss: 0.4499 - val_acc: 0.8708\n"
          ],
          "name": "stdout"
        }
      ]
    },
    {
      "cell_type": "code",
      "metadata": {
        "id": "RPehKhTXORFr",
        "colab": {
          "base_uri": "https://localhost:8080/",
          "height": 295
        },
        "outputId": "55fd0cc6-a63e-4017-e070-6f3e2aa96dfa"
      },
      "source": [
        "import matplotlib.pyplot as plt\n",
        "\n",
        "acc = history_dict['acc']\n",
        "epochs = range(1, len(acc) + 1)\n",
        "# plt.plot(epochs, loss_values, 'bo', label='Training loss')\n",
        "plt.plot(epochs, val_loss_values_orig, 'b+', label='Original model loss')\n",
        "plt.plot(epochs, val_loss_values_small, 'bo', label='Smaller model loss')\n",
        "plt.title('Original and Smaller Network validation loss')\n",
        "plt.xlabel('Epochs')\n",
        "plt.ylabel('Loss')\n",
        "plt.legend()\n",
        "plt.show()"
      ],
      "execution_count": 45,
      "outputs": [
        {
          "output_type": "display_data",
          "data": {
            "image/png": "[encoded data removed]",
            "text/plain": [
              "<Figure size 432x288 with 1 Axes>"
            ]
          },
          "metadata": {
            "tags": [],
            "needs_background": "light"
          }
        }
      ]
    },
    {
      "cell_type": "markdown",
      "metadata": {
        "id": "9jGLFLT7UhNO"
      },
      "source": [
        "As you can see, the smaller network starts overfitting later than the reference network\n",
        "(after six epochs rather than four), and its performance degrades more slowly once it\n",
        "starts overfitting.\n",
        "Now, for kicks, let’s add to this benchmark a network that has much more capacity—\n",
        "far more than the problem warrants."
      ]
    },
    {
      "cell_type": "markdown",
      "metadata": {
        "id": "VOxQKgVaXXRO"
      },
      "source": [
        "Bigger Model"
      ]
    },
    {
      "cell_type": "code",
      "metadata": {
        "id": "mqYO3ZwoUyw5",
        "colab": {
          "base_uri": "https://localhost:8080/"
        },
        "outputId": "6f47d58a-60ef-451f-a8f2-00c550c0e1e4"
      },
      "source": [
        "# Bigger model\n",
        "model = models.Sequential()\n",
        "model.add(layers.Dense(512, activation='relu', input_shape=(10000,)))\n",
        "model.add(layers.Dense(512, activation='relu'))\n",
        "model.add(layers.Dense(1, activation='sigmoid'))\n",
        "\n",
        "\n",
        "model.compile(optimizer='rmsprop',\n",
        "loss='binary_crossentropy',\n",
        "metrics=['acc'])\n",
        "history = model.fit(partial_x_train,\n",
        "partial_y_train,\n",
        "epochs=20,\n",
        "batch_size=512,\n",
        "validation_data=(x_val, y_val))\n",
        "\n",
        "history_dict = history.history\n",
        "loss_values = history_dict['loss']\n",
        "val_loss_values_big = history_dict['val_loss']\n",
        "\n"
      ],
      "execution_count": 34,
      "outputs": [
        {
          "output_type": "stream",
          "text": [
            "Epoch 1/20\n",
            "30/30 [==============================] - 2s 37ms/step - loss: 0.6976 - acc: 0.6538 - val_loss: 0.3119 - val_acc: 0.8805\n",
            "Epoch 2/20\n",
            "30/30 [==============================] - 1s 24ms/step - loss: 0.2560 - acc: 0.9081 - val_loss: 0.2893 - val_acc: 0.8829\n",
            "Epoch 3/20\n",
            "30/30 [==============================] - 1s 25ms/step - loss: 0.1437 - acc: 0.9477 - val_loss: 0.3080 - val_acc: 0.8849\n",
            "Epoch 4/20\n",
            "30/30 [==============================] - 1s 24ms/step - loss: 0.0996 - acc: 0.9691 - val_loss: 0.3570 - val_acc: 0.8923\n",
            "Epoch 5/20\n",
            "30/30 [==============================] - 1s 24ms/step - loss: 0.0758 - acc: 0.9823 - val_loss: 0.3727 - val_acc: 0.8879\n",
            "Epoch 6/20\n",
            "30/30 [==============================] - 1s 23ms/step - loss: 0.0044 - acc: 0.9998 - val_loss: 0.4893 - val_acc: 0.8886\n",
            "Epoch 7/20\n",
            "30/30 [==============================] - 1s 23ms/step - loss: 6.0350e-04 - acc: 1.0000 - val_loss: 0.7017 - val_acc: 0.8782\n",
            "Epoch 8/20\n",
            "30/30 [==============================] - 1s 24ms/step - loss: 1.3348e-04 - acc: 1.0000 - val_loss: 0.7293 - val_acc: 0.8871\n",
            "Epoch 9/20\n",
            "30/30 [==============================] - 1s 24ms/step - loss: 1.6055e-05 - acc: 1.0000 - val_loss: 0.8361 - val_acc: 0.8864\n",
            "Epoch 10/20\n",
            "30/30 [==============================] - 1s 24ms/step - loss: 3.3392e-06 - acc: 1.0000 - val_loss: 0.9638 - val_acc: 0.8847\n",
            "Epoch 11/20\n",
            "30/30 [==============================] - 1s 24ms/step - loss: 9.6512e-07 - acc: 1.0000 - val_loss: 1.0109 - val_acc: 0.8856\n",
            "Epoch 12/20\n",
            "30/30 [==============================] - 1s 24ms/step - loss: 2.9935e-07 - acc: 1.0000 - val_loss: 1.0844 - val_acc: 0.8850\n",
            "Epoch 13/20\n",
            "30/30 [==============================] - 1s 24ms/step - loss: 1.1595e-07 - acc: 1.0000 - val_loss: 1.1463 - val_acc: 0.8851\n",
            "Epoch 14/20\n",
            "30/30 [==============================] - 1s 27ms/step - loss: 4.3973e-08 - acc: 1.0000 - val_loss: 1.1903 - val_acc: 0.8854\n",
            "Epoch 15/20\n",
            "30/30 [==============================] - 1s 27ms/step - loss: 2.6802e-08 - acc: 1.0000 - val_loss: 1.2210 - val_acc: 0.8851\n",
            "Epoch 16/20\n",
            "30/30 [==============================] - 1s 24ms/step - loss: 1.8178e-08 - acc: 1.0000 - val_loss: 1.2412 - val_acc: 0.8852\n",
            "Epoch 17/20\n",
            "30/30 [==============================] - 1s 23ms/step - loss: 1.3695e-08 - acc: 1.0000 - val_loss: 1.2579 - val_acc: 0.8852\n",
            "Epoch 18/20\n",
            "30/30 [==============================] - 1s 23ms/step - loss: 9.8968e-09 - acc: 1.0000 - val_loss: 1.2699 - val_acc: 0.8853\n",
            "Epoch 19/20\n",
            "30/30 [==============================] - 1s 23ms/step - loss: 9.5104e-09 - acc: 1.0000 - val_loss: 1.2812 - val_acc: 0.8850\n",
            "Epoch 20/20\n",
            "30/30 [==============================] - 1s 24ms/step - loss: 8.2654e-09 - acc: 1.0000 - val_loss: 1.2899 - val_acc: 0.8848\n"
          ],
          "name": "stdout"
        }
      ]
    },
    {
      "cell_type": "code",
      "metadata": {
        "id": "TUQIbMe8VDF8",
        "colab": {
          "base_uri": "https://localhost:8080/",
          "height": 295
        },
        "outputId": "8a299f54-9751-40c0-c3df-494bccdf7f83"
      },
      "source": [
        "import matplotlib.pyplot as plt\n",
        "\n",
        "acc = history_dict['acc']\n",
        "epochs = range(1, len(acc) + 1)\n",
        "plt.plot(epochs, val_loss_values_orig, 'b+', label='Original model loss')\n",
        "plt.plot(epochs, val_loss_values_big, 'bo', label='Bigger model loss')\n",
        "plt.title('Original and Bigger Network validation loss')\n",
        "plt.xlabel('Epochs')\n",
        "plt.ylabel('Loss')\n",
        "plt.legend()\n",
        "plt.show()"
      ],
      "execution_count": 35,
      "outputs": [
        {
          "output_type": "display_data",
          "data": {
            "image/png": "[encoded data removed]",
            "text/plain": [
              "<Figure size 432x288 with 1 Axes>"
            ]
          },
          "metadata": {
            "tags": [],
            "needs_background": "light"
          }
        }
      ]
    },
    {
      "cell_type": "markdown",
      "metadata": {
        "id": "BKe5xgW7Wdbx"
      },
      "source": [
        "This Figure shows how the bigger network fares compared to the reference network.\n",
        "The dots are the validation loss values of the bigger network, and the crosses are the\n",
        "initial network."
      ]
    },
    {
      "cell_type": "markdown",
      "metadata": {
        "id": "SUiPlDwplWYN"
      },
      "source": [
        "L2-regularization model"
      ]
    },
    {
      "cell_type": "code",
      "metadata": {
        "id": "gGaw2ZV1Y0jA",
        "colab": {
          "base_uri": "https://localhost:8080/"
        },
        "outputId": "882155ba-1d8f-4261-ffea-9ee3f1f28929"
      },
      "source": [
        "# L2 Rregularized model\n",
        "from keras import regularizers\n",
        "model = models.Sequential()\n",
        "model.add(layers.Dense(16, kernel_regularizer=regularizers.l2(0.001),\n",
        "activation='relu', input_shape=(10000,)))\n",
        "model.add(layers.Dense(16, kernel_regularizer=regularizers.l2(0.001),\n",
        "activation='relu'))\n",
        "model.add(layers.Dense(1, activation='sigmoid'))\n",
        "\n",
        "model.compile(optimizer='rmsprop',\n",
        "loss='binary_crossentropy',\n",
        "metrics=['acc'])\n",
        "history = model.fit(partial_x_train,\n",
        "partial_y_train,\n",
        "epochs=20,\n",
        "batch_size=512,\n",
        "validation_data=(x_val, y_val))\n",
        "\n",
        "history_dict = history.history\n",
        "loss_values = history_dict['loss']\n",
        "val_loss_values_L2 = history_dict['val_loss']\n",
        "\n"
      ],
      "execution_count": 36,
      "outputs": [
        {
          "output_type": "stream",
          "text": [
            "Epoch 1/20\n",
            "30/30 [==============================] - 2s 36ms/step - loss: 0.6360 - acc: 0.6994 - val_loss: 0.4478 - val_acc: 0.8556\n",
            "Epoch 2/20\n",
            "30/30 [==============================] - 1s 20ms/step - loss: 0.3825 - acc: 0.8991 - val_loss: 0.3625 - val_acc: 0.8823\n",
            "Epoch 3/20\n",
            "30/30 [==============================] - 1s 20ms/step - loss: 0.2983 - acc: 0.9230 - val_loss: 0.3451 - val_acc: 0.8804\n",
            "Epoch 4/20\n",
            "30/30 [==============================] - 1s 20ms/step - loss: 0.2463 - acc: 0.9376 - val_loss: 0.3276 - val_acc: 0.8886\n",
            "Epoch 5/20\n",
            "30/30 [==============================] - 1s 23ms/step - loss: 0.2200 - acc: 0.9483 - val_loss: 0.3782 - val_acc: 0.8684\n",
            "Epoch 6/20\n",
            "30/30 [==============================] - 1s 23ms/step - loss: 0.2081 - acc: 0.9506 - val_loss: 0.3393 - val_acc: 0.8840\n",
            "Epoch 7/20\n",
            "30/30 [==============================] - 1s 20ms/step - loss: 0.1898 - acc: 0.9594 - val_loss: 0.4072 - val_acc: 0.8575\n",
            "Epoch 8/20\n",
            "30/30 [==============================] - 1s 20ms/step - loss: 0.1896 - acc: 0.9576 - val_loss: 0.3432 - val_acc: 0.8840\n",
            "Epoch 9/20\n",
            "30/30 [==============================] - 1s 20ms/step - loss: 0.1745 - acc: 0.9646 - val_loss: 0.3719 - val_acc: 0.8796\n",
            "Epoch 10/20\n",
            "30/30 [==============================] - 1s 20ms/step - loss: 0.1656 - acc: 0.9648 - val_loss: 0.3590 - val_acc: 0.8794\n",
            "Epoch 11/20\n",
            "30/30 [==============================] - 1s 20ms/step - loss: 0.1632 - acc: 0.9684 - val_loss: 0.4034 - val_acc: 0.8720\n",
            "Epoch 12/20\n",
            "30/30 [==============================] - 1s 20ms/step - loss: 0.1522 - acc: 0.9723 - val_loss: 0.3863 - val_acc: 0.8733\n",
            "Epoch 13/20\n",
            "30/30 [==============================] - 1s 20ms/step - loss: 0.1508 - acc: 0.9741 - val_loss: 0.3885 - val_acc: 0.8737\n",
            "Epoch 14/20\n",
            "30/30 [==============================] - 1s 20ms/step - loss: 0.1490 - acc: 0.9733 - val_loss: 0.4456 - val_acc: 0.8643\n",
            "Epoch 15/20\n",
            "30/30 [==============================] - 1s 20ms/step - loss: 0.1503 - acc: 0.9694 - val_loss: 0.4075 - val_acc: 0.8701\n",
            "Epoch 16/20\n",
            "30/30 [==============================] - 1s 20ms/step - loss: 0.1373 - acc: 0.9781 - val_loss: 0.4199 - val_acc: 0.8681\n",
            "Epoch 17/20\n",
            "30/30 [==============================] - 1s 20ms/step - loss: 0.1372 - acc: 0.9776 - val_loss: 0.4219 - val_acc: 0.8720\n",
            "Epoch 18/20\n",
            "30/30 [==============================] - 1s 19ms/step - loss: 0.1333 - acc: 0.9796 - val_loss: 0.4226 - val_acc: 0.8707\n",
            "Epoch 19/20\n",
            "30/30 [==============================] - 1s 20ms/step - loss: 0.1241 - acc: 0.9845 - val_loss: 0.4307 - val_acc: 0.8710\n",
            "Epoch 20/20\n",
            "30/30 [==============================] - 1s 23ms/step - loss: 0.1288 - acc: 0.9807 - val_loss: 0.4326 - val_acc: 0.8713\n"
          ],
          "name": "stdout"
        }
      ]
    },
    {
      "cell_type": "code",
      "metadata": {
        "id": "jjOrNPs4ZGY2",
        "colab": {
          "base_uri": "https://localhost:8080/",
          "height": 295
        },
        "outputId": "aea5a8cb-ebf5-4c65-efa5-38078945fa53"
      },
      "source": [
        "import matplotlib.pyplot as plt\n",
        "\n",
        "acc = history_dict['acc']\n",
        "epochs = range(1, len(acc) + 1)\n",
        "plt.plot(epochs, val_loss_values_orig, 'b+', label='Original model loss')\n",
        "plt.plot(epochs, val_loss_values_L2, 'bo', label='L2-regularized model loss')\n",
        "plt.title('Original and L2-regularized Network validation loss')\n",
        "plt.xlabel('Epochs')\n",
        "plt.ylabel('Loss')\n",
        "plt.legend()\n",
        "plt.show()"
      ],
      "execution_count": 37,
      "outputs": [
        {
          "output_type": "display_data",
          "data": {
            "image/png": "[encoded data removed]",
            "text/plain": [
              "<Figure size 432x288 with 1 Axes>"
            ]
          },
          "metadata": {
            "tags": [],
            "needs_background": "light"
          }
        }
      ]
    },
    {
      "cell_type": "markdown",
      "metadata": {
        "id": "eL7BZXFsaFct"
      },
      "source": [
        "This Figure shows the impact of the L2 regularization penalty. As you can see, the\n",
        "model with L2 regularization (dots) has become much more resistant to overfitting\n",
        "than the reference model (crosses), even though both models have the same number\n",
        "of parameters."
      ]
    },
    {
      "cell_type": "markdown",
      "metadata": {
        "id": "qzVWjjaLcW5J"
      },
      "source": [
        "Dropout model"
      ]
    },
    {
      "cell_type": "code",
      "metadata": {
        "id": "B6T0auFAbWJ0",
        "colab": {
          "base_uri": "https://localhost:8080/"
        },
        "outputId": "c0e990c8-5980-429f-fb7a-b3042079c520"
      },
      "source": [
        "# Dropout model\n",
        "from keras import regularizers\n",
        "model = models.Sequential()\n",
        "model.add(layers.Dense(16, activation='relu', input_shape=(10000,)))\n",
        "model.add(layers.Dropout(0.5))\n",
        "model.add(layers.Dense(16, activation='relu'))\n",
        "model.add(layers.Dropout(0.5))\n",
        "model.add(layers.Dense(1, activation='sigmoid'))\n",
        "\n",
        "\n",
        "model.compile(optimizer='rmsprop',\n",
        "loss='binary_crossentropy',\n",
        "metrics=['accuracy'])\n",
        "\n",
        "from keras import optimizers\n",
        "model.compile(optimizer=optimizers.RMSprop(learning_rate=0.001),\n",
        "loss='binary_crossentropy',\n",
        "metrics=['accuracy'])\n",
        "\n",
        "model.compile(optimizer='rmsprop',\n",
        "loss='binary_crossentropy',\n",
        "metrics=['acc'])\n",
        "history = model.fit(partial_x_train,\n",
        "partial_y_train,\n",
        "epochs=20,\n",
        "batch_size=512,\n",
        "validation_data=(x_val, y_val))\n",
        "\n",
        "history_dict = history.history\n",
        "loss_values = history_dict['loss']\n",
        "val_loss_values_dropout = history_dict['val_loss']"
      ],
      "execution_count": 38,
      "outputs": [
        {
          "output_type": "stream",
          "text": [
            "Epoch 1/20\n",
            "30/30 [==============================] - 2s 37ms/step - loss: 0.6674 - acc: 0.5714 - val_loss: 0.5063 - val_acc: 0.8374\n",
            "Epoch 2/20\n",
            "30/30 [==============================] - 1s 20ms/step - loss: 0.5211 - acc: 0.7563 - val_loss: 0.3974 - val_acc: 0.8689\n",
            "Epoch 3/20\n",
            "30/30 [==============================] - 1s 19ms/step - loss: 0.4317 - acc: 0.8220 - val_loss: 0.3381 - val_acc: 0.8765\n",
            "Epoch 4/20\n",
            "30/30 [==============================] - 1s 20ms/step - loss: 0.3565 - acc: 0.8720 - val_loss: 0.3001 - val_acc: 0.8813\n",
            "Epoch 5/20\n",
            "30/30 [==============================] - 1s 20ms/step - loss: 0.3057 - acc: 0.8917 - val_loss: 0.2852 - val_acc: 0.8881\n",
            "Epoch 6/20\n",
            "30/30 [==============================] - 1s 21ms/step - loss: 0.2712 - acc: 0.9076 - val_loss: 0.2952 - val_acc: 0.8758\n",
            "Epoch 7/20\n",
            "30/30 [==============================] - 1s 20ms/step - loss: 0.2369 - acc: 0.9205 - val_loss: 0.2882 - val_acc: 0.8840\n",
            "Epoch 8/20\n",
            "30/30 [==============================] - 1s 19ms/step - loss: 0.2111 - acc: 0.9354 - val_loss: 0.2859 - val_acc: 0.8902\n",
            "Epoch 9/20\n",
            "30/30 [==============================] - 1s 20ms/step - loss: 0.1875 - acc: 0.9412 - val_loss: 0.2966 - val_acc: 0.8913\n",
            "Epoch 10/20\n",
            "30/30 [==============================] - 1s 19ms/step - loss: 0.1617 - acc: 0.9460 - val_loss: 0.3189 - val_acc: 0.8891\n",
            "Epoch 11/20\n",
            "30/30 [==============================] - 1s 20ms/step - loss: 0.1485 - acc: 0.9517 - val_loss: 0.3282 - val_acc: 0.8868\n",
            "Epoch 12/20\n",
            "30/30 [==============================] - 1s 20ms/step - loss: 0.1346 - acc: 0.9594 - val_loss: 0.3620 - val_acc: 0.8873\n",
            "Epoch 13/20\n",
            "30/30 [==============================] - 1s 21ms/step - loss: 0.1200 - acc: 0.9614 - val_loss: 0.3821 - val_acc: 0.8865\n",
            "Epoch 14/20\n",
            "30/30 [==============================] - 1s 20ms/step - loss: 0.1085 - acc: 0.9674 - val_loss: 0.4005 - val_acc: 0.8855\n",
            "Epoch 15/20\n",
            "30/30 [==============================] - 1s 20ms/step - loss: 0.1024 - acc: 0.9676 - val_loss: 0.4542 - val_acc: 0.8836\n",
            "Epoch 16/20\n",
            "30/30 [==============================] - 1s 19ms/step - loss: 0.0982 - acc: 0.9674 - val_loss: 0.4570 - val_acc: 0.8858\n",
            "Epoch 17/20\n",
            "30/30 [==============================] - 1s 20ms/step - loss: 0.0893 - acc: 0.9710 - val_loss: 0.4956 - val_acc: 0.8858\n",
            "Epoch 18/20\n",
            "30/30 [==============================] - 1s 19ms/step - loss: 0.0862 - acc: 0.9740 - val_loss: 0.4955 - val_acc: 0.8849\n",
            "Epoch 19/20\n",
            "30/30 [==============================] - 1s 20ms/step - loss: 0.0876 - acc: 0.9716 - val_loss: 0.5439 - val_acc: 0.8843\n",
            "Epoch 20/20\n",
            "30/30 [==============================] - 1s 20ms/step - loss: 0.0783 - acc: 0.9775 - val_loss: 0.5666 - val_acc: 0.8839\n"
          ],
          "name": "stdout"
        }
      ]
    },
    {
      "cell_type": "code",
      "metadata": {
        "id": "yPnC7B6HcM0y",
        "colab": {
          "base_uri": "https://localhost:8080/",
          "height": 295
        },
        "outputId": "3ac7f1a5-0b2d-4e01-b6fb-6a4b3f43d0bc"
      },
      "source": [
        "import matplotlib.pyplot as plt\n",
        "\n",
        "acc = history_dict['acc']\n",
        "epochs = range(1, len(acc) + 1)\n",
        "plt.plot(epochs, val_loss_values_orig, 'b+', label='Original model loss')\n",
        "plt.plot(epochs, val_loss_values_dropout, 'bo', label='Dropout-regularized model loss')\n",
        "plt.title('Original and Dropout Network validation loss')\n",
        "plt.xlabel('Epochs')\n",
        "plt.ylabel('Loss')\n",
        "plt.legend()\n",
        "plt.show()"
      ],
      "execution_count": 39,
      "outputs": [
        {
          "output_type": "display_data",
          "data": {
            "image/png": "[encoded data removed]",
            "text/plain": [
              "<Figure size 432x288 with 1 Axes>"
            ]
          },
          "metadata": {
            "tags": [],
            "needs_background": "light"
          }
        }
      ]
    },
    {
      "cell_type": "markdown",
      "metadata": {
        "id": "IBZIMzetdJRA"
      },
      "source": [
        "This Figure shows a plot of the results. Again, this is a clear improvement over the reference\n",
        "network."
      ]
    },
    {
      "cell_type": "markdown",
      "metadata": {
        "id": "J3usk11TdSWH"
      },
      "source": [
        "To recap, these are the most common ways to prevent overfitting in neural networks:\n",
        "* Get more training data.\n",
        "* Reduce the capacity of the network.\n",
        "* Add weight regularization.\n",
        "* Add dropout."
      ]
    }
  ]
}
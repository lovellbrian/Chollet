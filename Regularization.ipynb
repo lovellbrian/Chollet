{
  "nbformat": 4,
  "nbformat_minor": 0,
  "metadata": {
    "colab": {
      "name": "Regularization.ipynb",
      "provenance": [],
      "authorship_tag": "ABX9TyNmd9TKjZLuqrl/hX9PFjVi",
      "include_colab_link": true
    },
    "kernelspec": {
      "name": "python3",
      "display_name": "Python 3"
    },
    "language_info": {
      "name": "python"
    },
    "accelerator": "GPU"
  },
  "cells": [
    {
      "cell_type": "markdown",
      "metadata": {
        "id": "view-in-github",
        "colab_type": "text"
      },
      "source": [
        "<a href=\"https://colab.research.google.com/github/lovellbrian/Chollet/blob/main/Regularization.ipynb\" target=\"_parent\"><img src=\"https://colab.research.google.com/assets/colab-badge.svg\" alt=\"Open In Colab\"/></a>"
      ]
    },
    {
      "cell_type": "markdown",
      "metadata": {
        "id": "VKiAmkna2vJo"
      },
      "source": [
        "Chollet  p105\n",
        "\n",
        "On the other hand, if the network has limited memorization resources, it won’t be\n",
        "able to learn this mapping as easily; thus, in order to minimize its loss, it will have to\n",
        "resort to learning compressed representations that have predictive power regarding\n",
        "the targets—precisely the type of representations we’re interested in. At the same\n",
        "time, keep in mind that you should use models that have enough parameters that they\n",
        "don’t underfit: your model shouldn’t be starved for memorization resources. There is\n",
        "a compromise to be found between too much capacity and not enough capacity.\n",
        "Unfortunately, there is no magical formula to determine the right number of layers\n",
        "or the right size for each layer. You must evaluate an array of different architectures\n",
        "(on your validation set, not on your test set, of course) in order to find the\n",
        "correct model size for your data. The general workflow to find an appropriate model\n",
        "size is to start with relatively few layers and parameters, and increase the size of the layers\n",
        "or add new layers until you see diminishing returns with regard to validation loss.\n",
        "Let’s try this on the movie-review classification network. The original network is\n",
        "shown next.\n",
        "\n",
        "\n"
      ]
    },
    {
      "cell_type": "code",
      "metadata": {
        "id": "UTE3n4qr2rQK"
      },
      "source": [
        "from keras import models\n",
        "from keras import layers\n",
        "model = models.Sequential()\n",
        "model.add(layers.Dense(16, activation='relu', input_shape=(10000,)))\n",
        "model.add(layers.Dense(16, activation='relu'))\n",
        "model.add(layers.Dense(1, activation='sigmoid'))"
      ],
      "execution_count": 36,
      "outputs": []
    },
    {
      "cell_type": "markdown",
      "metadata": {
        "id": "tGWnBT1w3GSS"
      },
      "source": [
        "Now let’s try to replace it with this smaller network."
      ]
    },
    {
      "cell_type": "code",
      "metadata": {
        "id": "ZsjKMps23Hbx"
      },
      "source": [
        "model = models.Sequential()\n",
        "model.add(layers.Dense(4, activation='relu', input_shape=(10000,)))\n",
        "model.add(layers.Dense(4, activation='relu'))\n",
        "model.add(layers.Dense(1, activation='sigmoid'))"
      ],
      "execution_count": 37,
      "outputs": []
    },
    {
      "cell_type": "markdown",
      "metadata": {
        "id": "2qgqAz8jUBy1"
      },
      "source": [
        "Original Model"
      ]
    },
    {
      "cell_type": "code",
      "metadata": {
        "id": "WMwzClH4pJG7",
        "outputId": "3cdfa613-46bb-4afc-c9b9-3e8b043a10d6",
        "colab": {
          "base_uri": "https://localhost:8080/"
        }
      },
      "source": [
        "from keras.datasets import imdb\n",
        "(train_data, train_labels), (test_data, test_labels) = imdb.load_data(num_words=10000)\n",
        "\n",
        "import numpy as np\n",
        "# np.warnings.filterwarnings('ignore', category=np.VisibleDeprecationWarning) # turn off some warnings\n",
        "def vectorize_sequences(sequences, dimension=10000):\n",
        "  results = np.zeros((len(sequences), dimension))\n",
        "  for i, sequence in enumerate(sequences):\n",
        "    results[i, sequence] = 1.\n",
        "  return results\n",
        "x_train = vectorize_sequences(train_data)\n",
        "x_test = vectorize_sequences(test_data)\n",
        "\n",
        "y_train = np.asarray(train_labels).astype('float32')\n",
        "y_test = np.asarray(test_labels).astype('float32')\n",
        "\n",
        "from keras import models\n",
        "from keras import layers\n",
        "\n",
        "x_val = x_train[:10000]\n",
        "partial_x_train = x_train[10000:]\n",
        "\n",
        "y_val = y_train[:10000]\n",
        "partial_y_train = y_train[10000:]\n"
      ],
      "execution_count": 38,
      "outputs": [
        {
          "output_type": "stream",
          "text": [
            "<string>:6: VisibleDeprecationWarning: Creating an ndarray from ragged nested sequences (which is a list-or-tuple of lists-or-tuples-or ndarrays with different lengths or shapes) is deprecated. If you meant to do this, you must specify 'dtype=object' when creating the ndarray\n",
            "/usr/local/lib/python3.7/dist-packages/keras/datasets/imdb.py:155: VisibleDeprecationWarning: Creating an ndarray from ragged nested sequences (which is a list-or-tuple of lists-or-tuples-or ndarrays with different lengths or shapes) is deprecated. If you meant to do this, you must specify 'dtype=object' when creating the ndarray\n",
            "  x_train, y_train = np.array(xs[:idx]), np.array(labels[:idx])\n",
            "/usr/local/lib/python3.7/dist-packages/keras/datasets/imdb.py:156: VisibleDeprecationWarning: Creating an ndarray from ragged nested sequences (which is a list-or-tuple of lists-or-tuples-or ndarrays with different lengths or shapes) is deprecated. If you meant to do this, you must specify 'dtype=object' when creating the ndarray\n",
            "  x_test, y_test = np.array(xs[idx:]), np.array(labels[idx:])\n"
          ],
          "name": "stderr"
        }
      ]
    },
    {
      "cell_type": "code",
      "metadata": {
        "colab": {
          "base_uri": "https://localhost:8080/"
        },
        "id": "VsPzZZxZDIR1",
        "outputId": "57597d9f-1d52-463d-8738-d488b4fa54cb"
      },
      "source": [
        "# Original model\n",
        "model = models.Sequential()\n",
        "model.add(layers.Dense(16, activation='relu', input_shape=(10000,)))\n",
        "model.add(layers.Dense(16, activation='relu'))\n",
        "model.add(layers.Dense(1, activation='sigmoid'))\n",
        "\n",
        "\n",
        "model.compile(optimizer='rmsprop',\n",
        "loss='binary_crossentropy',\n",
        "metrics=['accuracy'])\n",
        "\n",
        "from keras import optimizers\n",
        "model.compile(optimizer=optimizers.RMSprop(learning_rate=0.001),\n",
        "loss='binary_crossentropy',\n",
        "metrics=['accuracy'])\n",
        "\n",
        "model.compile(optimizer='rmsprop',\n",
        "loss='binary_crossentropy',\n",
        "metrics=['acc'])\n",
        "history = model.fit(partial_x_train,\n",
        "partial_y_train,\n",
        "epochs=20,\n",
        "batch_size=512,\n",
        "validation_data=(x_val, y_val))\n",
        "\n",
        "history_dict = history.history\n",
        "loss_values = history_dict['loss']\n",
        "val_loss_values_orig = history_dict['val_loss']\n",
        "\n"
      ],
      "execution_count": 39,
      "outputs": [
        {
          "output_type": "stream",
          "text": [
            "Epoch 1/20\n",
            "30/30 [==============================] - 2s 30ms/step - loss: 0.5848 - acc: 0.7094 - val_loss: 0.3780 - val_acc: 0.8707\n",
            "Epoch 2/20\n",
            "30/30 [==============================] - 1s 19ms/step - loss: 0.3174 - acc: 0.9028 - val_loss: 0.3161 - val_acc: 0.8761\n",
            "Epoch 3/20\n",
            "30/30 [==============================] - 1s 20ms/step - loss: 0.2163 - acc: 0.9356 - val_loss: 0.2749 - val_acc: 0.8911\n",
            "Epoch 4/20\n",
            "30/30 [==============================] - 1s 20ms/step - loss: 0.1676 - acc: 0.9489 - val_loss: 0.3055 - val_acc: 0.8777\n",
            "Epoch 5/20\n",
            "30/30 [==============================] - 1s 21ms/step - loss: 0.1333 - acc: 0.9605 - val_loss: 0.2834 - val_acc: 0.8875\n",
            "Epoch 6/20\n",
            "30/30 [==============================] - 1s 20ms/step - loss: 0.1078 - acc: 0.9689 - val_loss: 0.3029 - val_acc: 0.8837\n",
            "Epoch 7/20\n",
            "30/30 [==============================] - 1s 19ms/step - loss: 0.0847 - acc: 0.9771 - val_loss: 0.3432 - val_acc: 0.8757\n",
            "Epoch 8/20\n",
            "30/30 [==============================] - 1s 19ms/step - loss: 0.0686 - acc: 0.9830 - val_loss: 0.3800 - val_acc: 0.8719\n",
            "Epoch 9/20\n",
            "30/30 [==============================] - 1s 20ms/step - loss: 0.0550 - acc: 0.9867 - val_loss: 0.3670 - val_acc: 0.8800\n",
            "Epoch 10/20\n",
            "30/30 [==============================] - 1s 19ms/step - loss: 0.0429 - acc: 0.9916 - val_loss: 0.3980 - val_acc: 0.8788\n",
            "Epoch 11/20\n",
            "30/30 [==============================] - 1s 20ms/step - loss: 0.0354 - acc: 0.9930 - val_loss: 0.4225 - val_acc: 0.8734\n",
            "Epoch 12/20\n",
            "30/30 [==============================] - 1s 20ms/step - loss: 0.0263 - acc: 0.9959 - val_loss: 0.4714 - val_acc: 0.8723\n",
            "Epoch 13/20\n",
            "30/30 [==============================] - 1s 19ms/step - loss: 0.0225 - acc: 0.9969 - val_loss: 0.4813 - val_acc: 0.8731\n",
            "Epoch 14/20\n",
            "30/30 [==============================] - 1s 19ms/step - loss: 0.0168 - acc: 0.9979 - val_loss: 0.5207 - val_acc: 0.8699\n",
            "Epoch 15/20\n",
            "30/30 [==============================] - 1s 19ms/step - loss: 0.0133 - acc: 0.9987 - val_loss: 0.5442 - val_acc: 0.8709\n",
            "Epoch 16/20\n",
            "30/30 [==============================] - 1s 19ms/step - loss: 0.0089 - acc: 0.9995 - val_loss: 0.5867 - val_acc: 0.8685\n",
            "Epoch 17/20\n",
            "30/30 [==============================] - 1s 19ms/step - loss: 0.0104 - acc: 0.9982 - val_loss: 0.6113 - val_acc: 0.8680\n",
            "Epoch 18/20\n",
            "30/30 [==============================] - 1s 19ms/step - loss: 0.0053 - acc: 0.9997 - val_loss: 0.6556 - val_acc: 0.8660\n",
            "Epoch 19/20\n",
            "30/30 [==============================] - 1s 19ms/step - loss: 0.0043 - acc: 0.9997 - val_loss: 0.6950 - val_acc: 0.8645\n",
            "Epoch 20/20\n",
            "30/30 [==============================] - 1s 19ms/step - loss: 0.0053 - acc: 0.9991 - val_loss: 0.7168 - val_acc: 0.8648\n"
          ],
          "name": "stdout"
        }
      ]
    },
    {
      "cell_type": "markdown",
      "metadata": {
        "id": "jyW3SC2BUVjF"
      },
      "source": [
        "Smaller Model"
      ]
    },
    {
      "cell_type": "code",
      "metadata": {
        "id": "bHZgS6JoPje7",
        "outputId": "2dd00bc6-9813-43c9-be94-676430808398",
        "colab": {
          "base_uri": "https://localhost:8080/"
        }
      },
      "source": [
        "# Smaller model\n",
        "model = models.Sequential()\n",
        "model.add(layers.Dense(4, activation='relu', input_shape=(10000,)))\n",
        "model.add(layers.Dense(4, activation='relu'))\n",
        "model.add(layers.Dense(1, activation='sigmoid'))\n",
        "\n",
        "\n",
        "model.compile(optimizer='rmsprop',\n",
        "loss='binary_crossentropy',\n",
        "metrics=['accuracy'])\n",
        "\n",
        "from keras import optimizers\n",
        "model.compile(optimizer=optimizers.RMSprop(learning_rate=0.001),\n",
        "loss='binary_crossentropy',\n",
        "metrics=['accuracy'])\n",
        "\n",
        "model.compile(optimizer='rmsprop',\n",
        "loss='binary_crossentropy',\n",
        "metrics=['acc'])\n",
        "history = model.fit(partial_x_train,\n",
        "partial_y_train,\n",
        "epochs=20,\n",
        "batch_size=512,\n",
        "validation_data=(x_val, y_val))\n",
        "\n",
        "history_dict = history.history\n",
        "loss_values = history_dict['loss']\n",
        "val_loss_values_small = history_dict['val_loss']\n",
        "\n"
      ],
      "execution_count": 40,
      "outputs": [
        {
          "output_type": "stream",
          "text": [
            "Epoch 1/20\n",
            "30/30 [==============================] - 2s 30ms/step - loss: 0.6595 - acc: 0.6230 - val_loss: 0.5600 - val_acc: 0.8352\n",
            "Epoch 2/20\n",
            "30/30 [==============================] - 1s 19ms/step - loss: 0.5217 - acc: 0.8579 - val_loss: 0.4686 - val_acc: 0.8564\n",
            "Epoch 3/20\n",
            "30/30 [==============================] - 1s 19ms/step - loss: 0.4236 - acc: 0.8888 - val_loss: 0.4016 - val_acc: 0.8733\n",
            "Epoch 4/20\n",
            "30/30 [==============================] - 1s 19ms/step - loss: 0.3487 - acc: 0.9060 - val_loss: 0.3532 - val_acc: 0.8804\n",
            "Epoch 5/20\n",
            "30/30 [==============================] - 1s 19ms/step - loss: 0.2920 - acc: 0.9191 - val_loss: 0.3202 - val_acc: 0.8834\n",
            "Epoch 6/20\n",
            "30/30 [==============================] - 1s 19ms/step - loss: 0.2529 - acc: 0.9289 - val_loss: 0.3012 - val_acc: 0.8867\n",
            "Epoch 7/20\n",
            "30/30 [==============================] - 1s 19ms/step - loss: 0.2198 - acc: 0.9359 - val_loss: 0.2851 - val_acc: 0.8908\n",
            "Epoch 8/20\n",
            "30/30 [==============================] - 1s 19ms/step - loss: 0.1931 - acc: 0.9443 - val_loss: 0.2773 - val_acc: 0.8913\n",
            "Epoch 9/20\n",
            "30/30 [==============================] - 1s 19ms/step - loss: 0.1760 - acc: 0.9467 - val_loss: 0.2792 - val_acc: 0.8871\n",
            "Epoch 10/20\n",
            "30/30 [==============================] - 1s 19ms/step - loss: 0.1520 - acc: 0.9549 - val_loss: 0.2724 - val_acc: 0.8917\n",
            "Epoch 11/20\n",
            "30/30 [==============================] - 1s 20ms/step - loss: 0.1414 - acc: 0.9566 - val_loss: 0.2782 - val_acc: 0.8881\n",
            "Epoch 12/20\n",
            "30/30 [==============================] - 1s 19ms/step - loss: 0.1262 - acc: 0.9640 - val_loss: 0.2828 - val_acc: 0.8875\n",
            "Epoch 13/20\n",
            "30/30 [==============================] - 1s 19ms/step - loss: 0.1130 - acc: 0.9692 - val_loss: 0.2849 - val_acc: 0.8889\n",
            "Epoch 14/20\n",
            "30/30 [==============================] - 1s 19ms/step - loss: 0.1021 - acc: 0.9719 - val_loss: 0.2979 - val_acc: 0.8855\n",
            "Epoch 15/20\n",
            "30/30 [==============================] - 1s 19ms/step - loss: 0.0959 - acc: 0.9734 - val_loss: 0.3046 - val_acc: 0.8848\n",
            "Epoch 16/20\n",
            "30/30 [==============================] - 1s 19ms/step - loss: 0.0858 - acc: 0.9774 - val_loss: 0.3096 - val_acc: 0.8854\n",
            "Epoch 17/20\n",
            "30/30 [==============================] - 1s 19ms/step - loss: 0.0762 - acc: 0.9795 - val_loss: 0.3202 - val_acc: 0.8849\n",
            "Epoch 18/20\n",
            "30/30 [==============================] - 1s 19ms/step - loss: 0.0682 - acc: 0.9841 - val_loss: 0.3386 - val_acc: 0.8807\n",
            "Epoch 19/20\n",
            "30/30 [==============================] - 1s 19ms/step - loss: 0.0611 - acc: 0.9852 - val_loss: 0.3507 - val_acc: 0.8815\n",
            "Epoch 20/20\n",
            "30/30 [==============================] - 1s 19ms/step - loss: 0.0577 - acc: 0.9879 - val_loss: 0.3734 - val_acc: 0.8751\n"
          ],
          "name": "stdout"
        }
      ]
    },
    {
      "cell_type": "code",
      "metadata": {
        "id": "RPehKhTXORFr",
        "outputId": "2ff285ac-95df-422c-8301-718ad5b60ee2",
        "colab": {
          "base_uri": "https://localhost:8080/",
          "height": 295
        }
      },
      "source": [
        "import matplotlib.pyplot as plt\n",
        "\n",
        "acc = history_dict['acc']\n",
        "epochs = range(1, len(acc) + 1)\n",
        "# plt.plot(epochs, loss_values, 'bo', label='Training loss')\n",
        "plt.plot(epochs, val_loss_values_orig, 'b+', label='Original model loss')\n",
        "plt.plot(epochs, val_loss_values_small, 'bo', label='Smaller model loss')\n",
        "plt.title('Original and Smaller Network validation loss')\n",
        "plt.xlabel('Epochs')\n",
        "plt.ylabel('Loss')\n",
        "plt.legend()\n",
        "plt.show()"
      ],
      "execution_count": 41,
      "outputs": [
        {
          "output_type": "display_data",
          "data": {
            "image/png": "[encoded data removed]",
            "text/plain": [
              "<Figure size 432x288 with 1 Axes>"
            ]
          },
          "metadata": {
            "tags": [],
            "needs_background": "light"
          }
        }
      ]
    },
    {
      "cell_type": "markdown",
      "metadata": {
        "id": "9jGLFLT7UhNO"
      },
      "source": [
        "As you can see, the smaller network starts overfitting later than the reference network\n",
        "(after six epochs rather than four), and its performance degrades more slowly once it\n",
        "starts overfitting.\n",
        "Now, for kicks, let’s add to this benchmark a network that has much more capacity—\n",
        "far more than the problem warrants."
      ]
    },
    {
      "cell_type": "markdown",
      "metadata": {
        "id": "VOxQKgVaXXRO"
      },
      "source": [
        "Bigger Model"
      ]
    },
    {
      "cell_type": "code",
      "metadata": {
        "id": "mqYO3ZwoUyw5",
        "outputId": "747bd2d5-0ec2-4fc8-8a8b-be87159191bb",
        "colab": {
          "base_uri": "https://localhost:8080/"
        }
      },
      "source": [
        "# Bigger model\n",
        "model = models.Sequential()\n",
        "model.add(layers.Dense(512, activation='relu', input_shape=(10000,)))\n",
        "model.add(layers.Dense(512, activation='relu'))\n",
        "model.add(layers.Dense(1, activation='sigmoid'))\n",
        "\n",
        "\n",
        "model.compile(optimizer='rmsprop',\n",
        "loss='binary_crossentropy',\n",
        "metrics=['accuracy'])\n",
        "\n",
        "from keras import optimizers\n",
        "model.compile(optimizer=optimizers.RMSprop(learning_rate=0.001),\n",
        "loss='binary_crossentropy',\n",
        "metrics=['accuracy'])\n",
        "\n",
        "model.compile(optimizer='rmsprop',\n",
        "loss='binary_crossentropy',\n",
        "metrics=['acc'])\n",
        "history = model.fit(partial_x_train,\n",
        "partial_y_train,\n",
        "epochs=20,\n",
        "batch_size=512,\n",
        "validation_data=(x_val, y_val))\n",
        "\n",
        "history_dict = history.history\n",
        "loss_values = history_dict['loss']\n",
        "val_loss_values_big = history_dict['val_loss']\n",
        "\n"
      ],
      "execution_count": 42,
      "outputs": [
        {
          "output_type": "stream",
          "text": [
            "Epoch 1/20\n",
            "30/30 [==============================] - 2s 36ms/step - loss: 0.6549 - acc: 0.6725 - val_loss: 0.3362 - val_acc: 0.8617\n",
            "Epoch 2/20\n",
            "30/30 [==============================] - 1s 23ms/step - loss: 0.2634 - acc: 0.8933 - val_loss: 0.3003 - val_acc: 0.8766\n",
            "Epoch 3/20\n",
            "30/30 [==============================] - 1s 23ms/step - loss: 0.1548 - acc: 0.9411 - val_loss: 0.3720 - val_acc: 0.8530\n",
            "Epoch 4/20\n",
            "30/30 [==============================] - 1s 23ms/step - loss: 0.0683 - acc: 0.9787 - val_loss: 0.3562 - val_acc: 0.8898\n",
            "Epoch 5/20\n",
            "30/30 [==============================] - 1s 23ms/step - loss: 0.0323 - acc: 0.9930 - val_loss: 0.3231 - val_acc: 0.8896\n",
            "Epoch 6/20\n",
            "30/30 [==============================] - 1s 23ms/step - loss: 0.0074 - acc: 0.9997 - val_loss: 0.5078 - val_acc: 0.8890\n",
            "Epoch 7/20\n",
            "30/30 [==============================] - 1s 23ms/step - loss: 7.0820e-04 - acc: 1.0000 - val_loss: 0.6367 - val_acc: 0.8895\n",
            "Epoch 8/20\n",
            "30/30 [==============================] - 1s 23ms/step - loss: 1.0370e-04 - acc: 1.0000 - val_loss: 0.7560 - val_acc: 0.8887\n",
            "Epoch 9/20\n",
            "30/30 [==============================] - 1s 22ms/step - loss: 1.5382e-05 - acc: 1.0000 - val_loss: 0.8610 - val_acc: 0.8876\n",
            "Epoch 10/20\n",
            "30/30 [==============================] - 1s 22ms/step - loss: 3.3944e-06 - acc: 1.0000 - val_loss: 0.9674 - val_acc: 0.8884\n",
            "Epoch 11/20\n",
            "30/30 [==============================] - 1s 23ms/step - loss: 8.4397e-07 - acc: 1.0000 - val_loss: 1.0462 - val_acc: 0.8872\n",
            "Epoch 12/20\n",
            "30/30 [==============================] - 1s 22ms/step - loss: 2.7654e-07 - acc: 1.0000 - val_loss: 1.1191 - val_acc: 0.8866\n",
            "Epoch 13/20\n",
            "30/30 [==============================] - 1s 26ms/step - loss: 1.1378e-07 - acc: 1.0000 - val_loss: 1.1859 - val_acc: 0.8864\n",
            "Epoch 14/20\n",
            "30/30 [==============================] - 1s 22ms/step - loss: 5.2925e-08 - acc: 1.0000 - val_loss: 1.2286 - val_acc: 0.8861\n",
            "Epoch 15/20\n",
            "30/30 [==============================] - 1s 23ms/step - loss: 2.7878e-08 - acc: 1.0000 - val_loss: 1.2573 - val_acc: 0.8856\n",
            "Epoch 16/20\n",
            "30/30 [==============================] - 1s 22ms/step - loss: 1.9220e-08 - acc: 1.0000 - val_loss: 1.2799 - val_acc: 0.8856\n",
            "Epoch 17/20\n",
            "30/30 [==============================] - 1s 23ms/step - loss: 1.4680e-08 - acc: 1.0000 - val_loss: 1.2964 - val_acc: 0.8853\n",
            "Epoch 18/20\n",
            "30/30 [==============================] - 1s 23ms/step - loss: 1.1718e-08 - acc: 1.0000 - val_loss: 1.3104 - val_acc: 0.8856\n",
            "Epoch 19/20\n",
            "30/30 [==============================] - 1s 23ms/step - loss: 1.0122e-08 - acc: 1.0000 - val_loss: 1.3217 - val_acc: 0.8858\n",
            "Epoch 20/20\n",
            "30/30 [==============================] - 1s 23ms/step - loss: 8.1838e-09 - acc: 1.0000 - val_loss: 1.3314 - val_acc: 0.8855\n"
          ],
          "name": "stdout"
        }
      ]
    },
    {
      "cell_type": "code",
      "metadata": {
        "id": "TUQIbMe8VDF8",
        "outputId": "b2f4c685-90a0-426a-9fde-f7499c2a1691",
        "colab": {
          "base_uri": "https://localhost:8080/",
          "height": 295
        }
      },
      "source": [
        "import matplotlib.pyplot as plt\n",
        "\n",
        "acc = history_dict['acc']\n",
        "epochs = range(1, len(acc) + 1)\n",
        "# plt.plot(epochs, loss_values, 'bo', label='Training loss')\n",
        "plt.plot(epochs, val_loss_values_orig, 'b+', label='Original model loss')\n",
        "plt.plot(epochs, val_loss_values_big, 'bo', label='Bigger model loss')\n",
        "plt.title('Original and Bigger Network validation loss')\n",
        "plt.xlabel('Epochs')\n",
        "plt.ylabel('Loss')\n",
        "plt.legend()\n",
        "plt.show()"
      ],
      "execution_count": 43,
      "outputs": [
        {
          "output_type": "display_data",
          "data": {
            "image/png": "[encoded data removed]",
            "text/plain": [
              "<Figure size 432x288 with 1 Axes>"
            ]
          },
          "metadata": {
            "tags": [],
            "needs_background": "light"
          }
        }
      ]
    },
    {
      "cell_type": "markdown",
      "metadata": {
        "id": "BKe5xgW7Wdbx"
      },
      "source": [
        "This Figure shows how the bigger network fares compared to the reference network.\n",
        "The dots are the validation loss values of the bigger network, and the crosses are the\n",
        "initial network."
      ]
    },
    {
      "cell_type": "markdown",
      "metadata": {
        "id": "SUiPlDwplWYN"
      },
      "source": [
        "L2-regularization model"
      ]
    },
    {
      "cell_type": "code",
      "metadata": {
        "id": "gGaw2ZV1Y0jA",
        "outputId": "e2f3a0d1-575b-40df-e18e-d561c2161738",
        "colab": {
          "base_uri": "https://localhost:8080/"
        }
      },
      "source": [
        "# L2 Rregularized model\n",
        "from keras import regularizers\n",
        "model = models.Sequential()\n",
        "model.add(layers.Dense(16, kernel_regularizer=regularizers.l2(0.001),\n",
        "activation='relu', input_shape=(10000,)))\n",
        "model.add(layers.Dense(16, kernel_regularizer=regularizers.l2(0.001),\n",
        "activation='relu'))\n",
        "model.add(layers.Dense(1, activation='sigmoid'))\n",
        "\n",
        "\n",
        "model.compile(optimizer='rmsprop',\n",
        "loss='binary_crossentropy',\n",
        "metrics=['accuracy'])\n",
        "\n",
        "from keras import optimizers\n",
        "model.compile(optimizer=optimizers.RMSprop(learning_rate=0.001),\n",
        "loss='binary_crossentropy',\n",
        "metrics=['accuracy'])\n",
        "\n",
        "model.compile(optimizer='rmsprop',\n",
        "loss='binary_crossentropy',\n",
        "metrics=['acc'])\n",
        "history = model.fit(partial_x_train,\n",
        "partial_y_train,\n",
        "epochs=20,\n",
        "batch_size=512,\n",
        "validation_data=(x_val, y_val))\n",
        "\n",
        "history_dict = history.history\n",
        "loss_values = history_dict['loss']\n",
        "val_loss_values_L2 = history_dict['val_loss']\n",
        "\n"
      ],
      "execution_count": 44,
      "outputs": [
        {
          "output_type": "stream",
          "text": [
            "Epoch 1/20\n",
            "30/30 [==============================] - 2s 31ms/step - loss: 0.6256 - acc: 0.7019 - val_loss: 0.4151 - val_acc: 0.8755\n",
            "Epoch 2/20\n",
            "30/30 [==============================] - 1s 21ms/step - loss: 0.3578 - acc: 0.9058 - val_loss: 0.3467 - val_acc: 0.8859\n",
            "Epoch 3/20\n",
            "30/30 [==============================] - 1s 20ms/step - loss: 0.2795 - acc: 0.9240 - val_loss: 0.3285 - val_acc: 0.8878\n",
            "Epoch 4/20\n",
            "30/30 [==============================] - 1s 24ms/step - loss: 0.2468 - acc: 0.9373 - val_loss: 0.3493 - val_acc: 0.8800\n",
            "Epoch 5/20\n",
            "30/30 [==============================] - 1s 20ms/step - loss: 0.2203 - acc: 0.9464 - val_loss: 0.3337 - val_acc: 0.8840\n",
            "Epoch 6/20\n",
            "30/30 [==============================] - 1s 19ms/step - loss: 0.1990 - acc: 0.9566 - val_loss: 0.4040 - val_acc: 0.8643\n",
            "Epoch 7/20\n",
            "30/30 [==============================] - 1s 19ms/step - loss: 0.1990 - acc: 0.9521 - val_loss: 0.3674 - val_acc: 0.8805\n",
            "Epoch 8/20\n",
            "30/30 [==============================] - 1s 20ms/step - loss: 0.1849 - acc: 0.9616 - val_loss: 0.3678 - val_acc: 0.8826\n",
            "Epoch 9/20\n",
            "30/30 [==============================] - 1s 20ms/step - loss: 0.1777 - acc: 0.9656 - val_loss: 0.3892 - val_acc: 0.8755\n",
            "Epoch 10/20\n",
            "30/30 [==============================] - 1s 19ms/step - loss: 0.1670 - acc: 0.9699 - val_loss: 0.3698 - val_acc: 0.8810\n",
            "Epoch 11/20\n",
            "30/30 [==============================] - 1s 19ms/step - loss: 0.1610 - acc: 0.9719 - val_loss: 0.4132 - val_acc: 0.8655\n",
            "Epoch 12/20\n",
            "30/30 [==============================] - 1s 19ms/step - loss: 0.1584 - acc: 0.9719 - val_loss: 0.3870 - val_acc: 0.8778\n",
            "Epoch 13/20\n",
            "30/30 [==============================] - 1s 19ms/step - loss: 0.1565 - acc: 0.9730 - val_loss: 0.4130 - val_acc: 0.8698\n",
            "Epoch 14/20\n",
            "30/30 [==============================] - 1s 19ms/step - loss: 0.1489 - acc: 0.9763 - val_loss: 0.4169 - val_acc: 0.8723\n",
            "Epoch 15/20\n",
            "30/30 [==============================] - 1s 19ms/step - loss: 0.1528 - acc: 0.9725 - val_loss: 0.4057 - val_acc: 0.8784\n",
            "Epoch 16/20\n",
            "30/30 [==============================] - 1s 19ms/step - loss: 0.1466 - acc: 0.9753 - val_loss: 0.4237 - val_acc: 0.8705\n",
            "Epoch 17/20\n",
            "30/30 [==============================] - 1s 19ms/step - loss: 0.1463 - acc: 0.9762 - val_loss: 0.4273 - val_acc: 0.8728\n",
            "Epoch 18/20\n",
            "30/30 [==============================] - 1s 20ms/step - loss: 0.1385 - acc: 0.9803 - val_loss: 0.4645 - val_acc: 0.8664\n",
            "Epoch 19/20\n",
            "30/30 [==============================] - 1s 19ms/step - loss: 0.1571 - acc: 0.9659 - val_loss: 0.4420 - val_acc: 0.8688\n",
            "Epoch 20/20\n",
            "30/30 [==============================] - 1s 19ms/step - loss: 0.1407 - acc: 0.9766 - val_loss: 0.4417 - val_acc: 0.8718\n"
          ],
          "name": "stdout"
        }
      ]
    },
    {
      "cell_type": "code",
      "metadata": {
        "id": "jjOrNPs4ZGY2",
        "outputId": "37253fd3-3c46-46af-af74-194dfaf2012d",
        "colab": {
          "base_uri": "https://localhost:8080/",
          "height": 295
        }
      },
      "source": [
        "import matplotlib.pyplot as plt\n",
        "\n",
        "acc = history_dict['acc']\n",
        "epochs = range(1, len(acc) + 1)\n",
        "# plt.plot(epochs, loss_values, 'bo', label='Training loss')\n",
        "plt.plot(epochs, val_loss_values_orig, 'b+', label='Original model loss')\n",
        "plt.plot(epochs, val_loss_values_L2, 'bo', label='L2-regularized model loss')\n",
        "plt.title('Original and L2-regularized Network validation loss')\n",
        "plt.xlabel('Epochs')\n",
        "plt.ylabel('Loss')\n",
        "plt.legend()\n",
        "plt.show()"
      ],
      "execution_count": 45,
      "outputs": [
        {
          "output_type": "display_data",
          "data": {
            "image/png": "[encoded data removed]",
            "text/plain": [
              "<Figure size 432x288 with 1 Axes>"
            ]
          },
          "metadata": {
            "tags": [],
            "needs_background": "light"
          }
        }
      ]
    },
    {
      "cell_type": "markdown",
      "metadata": {
        "id": "eL7BZXFsaFct"
      },
      "source": [
        "This Figure shows the impact of the L2 regularization penalty. As you can see, the\n",
        "model with L2 regularization (dots) has become much more resistant to overfitting\n",
        "than the reference model (crosses), even though both models have the same number\n",
        "of parameters."
      ]
    },
    {
      "cell_type": "markdown",
      "metadata": {
        "id": "qzVWjjaLcW5J"
      },
      "source": [
        "Dropout model"
      ]
    },
    {
      "cell_type": "code",
      "metadata": {
        "id": "B6T0auFAbWJ0",
        "outputId": "7d193b33-ec5a-486d-c7fe-2e36b9a7cad0",
        "colab": {
          "base_uri": "https://localhost:8080/"
        }
      },
      "source": [
        "# Dropout model\n",
        "from keras import regularizers\n",
        "model = models.Sequential()\n",
        "model.add(layers.Dense(16, activation='relu', input_shape=(10000,)))\n",
        "model.add(layers.Dropout(0.5))\n",
        "model.add(layers.Dense(16, activation='relu'))\n",
        "model.add(layers.Dropout(0.5))\n",
        "model.add(layers.Dense(1, activation='sigmoid'))\n",
        "\n",
        "\n",
        "model.compile(optimizer='rmsprop',\n",
        "loss='binary_crossentropy',\n",
        "metrics=['accuracy'])\n",
        "\n",
        "from keras import optimizers\n",
        "model.compile(optimizer=optimizers.RMSprop(learning_rate=0.001),\n",
        "loss='binary_crossentropy',\n",
        "metrics=['accuracy'])\n",
        "\n",
        "model.compile(optimizer='rmsprop',\n",
        "loss='binary_crossentropy',\n",
        "metrics=['acc'])\n",
        "history = model.fit(partial_x_train,\n",
        "partial_y_train,\n",
        "epochs=20,\n",
        "batch_size=512,\n",
        "validation_data=(x_val, y_val))\n",
        "\n",
        "history_dict = history.history\n",
        "loss_values = history_dict['loss']\n",
        "val_loss_values_dropout = history_dict['val_loss']"
      ],
      "execution_count": 46,
      "outputs": [
        {
          "output_type": "stream",
          "text": [
            "Epoch 1/20\n",
            "30/30 [==============================] - 2s 32ms/step - loss: 0.6655 - acc: 0.5861 - val_loss: 0.5449 - val_acc: 0.8372\n",
            "Epoch 2/20\n",
            "30/30 [==============================] - 1s 20ms/step - loss: 0.5517 - acc: 0.7503 - val_loss: 0.4435 - val_acc: 0.8675\n",
            "Epoch 3/20\n",
            "30/30 [==============================] - 1s 20ms/step - loss: 0.4696 - acc: 0.7986 - val_loss: 0.3709 - val_acc: 0.8784\n",
            "Epoch 4/20\n",
            "30/30 [==============================] - 1s 19ms/step - loss: 0.4048 - acc: 0.8390 - val_loss: 0.3312 - val_acc: 0.8834\n",
            "Epoch 5/20\n",
            "30/30 [==============================] - 1s 20ms/step - loss: 0.3506 - acc: 0.8684 - val_loss: 0.2953 - val_acc: 0.8856\n",
            "Epoch 6/20\n",
            "30/30 [==============================] - 1s 19ms/step - loss: 0.3094 - acc: 0.8897 - val_loss: 0.2892 - val_acc: 0.8833\n",
            "Epoch 7/20\n",
            "30/30 [==============================] - 1s 19ms/step - loss: 0.2782 - acc: 0.9026 - val_loss: 0.2754 - val_acc: 0.8890\n",
            "Epoch 8/20\n",
            "30/30 [==============================] - 1s 20ms/step - loss: 0.2500 - acc: 0.9179 - val_loss: 0.2859 - val_acc: 0.8819\n",
            "Epoch 9/20\n",
            "30/30 [==============================] - 1s 19ms/step - loss: 0.2170 - acc: 0.9309 - val_loss: 0.2809 - val_acc: 0.8899\n",
            "Epoch 10/20\n",
            "30/30 [==============================] - 1s 20ms/step - loss: 0.2011 - acc: 0.9379 - val_loss: 0.2996 - val_acc: 0.8877\n",
            "Epoch 11/20\n",
            "30/30 [==============================] - 1s 19ms/step - loss: 0.1702 - acc: 0.9478 - val_loss: 0.3100 - val_acc: 0.8891\n",
            "Epoch 12/20\n",
            "30/30 [==============================] - 1s 19ms/step - loss: 0.1602 - acc: 0.9540 - val_loss: 0.3154 - val_acc: 0.8881\n",
            "Epoch 13/20\n",
            "30/30 [==============================] - 1s 19ms/step - loss: 0.1387 - acc: 0.9576 - val_loss: 0.3531 - val_acc: 0.8883\n",
            "Epoch 14/20\n",
            "30/30 [==============================] - 1s 19ms/step - loss: 0.1353 - acc: 0.9577 - val_loss: 0.3698 - val_acc: 0.8881\n",
            "Epoch 15/20\n",
            "30/30 [==============================] - 1s 19ms/step - loss: 0.1233 - acc: 0.9650 - val_loss: 0.3840 - val_acc: 0.8898\n",
            "Epoch 16/20\n",
            "30/30 [==============================] - 1s 20ms/step - loss: 0.1157 - acc: 0.9665 - val_loss: 0.4072 - val_acc: 0.8891\n",
            "Epoch 17/20\n",
            "30/30 [==============================] - 1s 23ms/step - loss: 0.1079 - acc: 0.9680 - val_loss: 0.4271 - val_acc: 0.8888\n",
            "Epoch 18/20\n",
            "30/30 [==============================] - 1s 19ms/step - loss: 0.0936 - acc: 0.9730 - val_loss: 0.4560 - val_acc: 0.8837\n",
            "Epoch 19/20\n",
            "30/30 [==============================] - 1s 20ms/step - loss: 0.0936 - acc: 0.9711 - val_loss: 0.4994 - val_acc: 0.8844\n",
            "Epoch 20/20\n",
            "30/30 [==============================] - 1s 21ms/step - loss: 0.0891 - acc: 0.9746 - val_loss: 0.4924 - val_acc: 0.8848\n"
          ],
          "name": "stdout"
        }
      ]
    },
    {
      "cell_type": "code",
      "metadata": {
        "id": "yPnC7B6HcM0y",
        "outputId": "99d38eb4-1d19-4a75-e666-ae750382a86e",
        "colab": {
          "base_uri": "https://localhost:8080/",
          "height": 295
        }
      },
      "source": [
        "import matplotlib.pyplot as plt\n",
        "\n",
        "acc = history_dict['acc']\n",
        "epochs = range(1, len(acc) + 1)\n",
        "# plt.plot(epochs, loss_values, 'bo', label='Training loss')\n",
        "plt.plot(epochs, val_loss_values_orig, 'b+', label='Original model loss')\n",
        "plt.plot(epochs, val_loss_values_dropout, 'bo', label='Dropout-regularized model loss')\n",
        "plt.title('Original and Dropout Network validation loss')\n",
        "plt.xlabel('Epochs')\n",
        "plt.ylabel('Loss')\n",
        "plt.legend()\n",
        "plt.show()"
      ],
      "execution_count": 47,
      "outputs": [
        {
          "output_type": "display_data",
          "data": {
            "image/png": "[encoded data removed]",
            "text/plain": [
              "<Figure size 432x288 with 1 Axes>"
            ]
          },
          "metadata": {
            "tags": [],
            "needs_background": "light"
          }
        }
      ]
    },
    {
      "cell_type": "markdown",
      "metadata": {
        "id": "IBZIMzetdJRA"
      },
      "source": [
        "This Figure shows a plot of the results. Again, this is a clear improvement over the reference\n",
        "network."
      ]
    },
    {
      "cell_type": "markdown",
      "metadata": {
        "id": "J3usk11TdSWH"
      },
      "source": [
        "To recap, these are the most common ways to prevent overfitting in neural networks:\n",
        "* Get more training data.\n",
        "* Reduce the capacity of the network.\n",
        "* Add weight regularization.\n",
        "* Add dropout."
      ]
    }
  ]
}
{
  "nbformat": 4,
  "nbformat_minor": 0,
  "metadata": {
    "colab": {
      "name": "DogsVsCats.ipynb",
      "provenance": [],
      "authorship_tag": "ABX9TyORH63dMY8Q6e5lc/gPZH15",
      "include_colab_link": true
    },
    "kernelspec": {
      "name": "python3",
      "display_name": "Python 3"
    },
    "language_info": {
      "name": "python"
    }
  },
  "cells": [
    {
      "cell_type": "markdown",
      "metadata": {
        "id": "view-in-github",
        "colab_type": "text"
      },
      "source": [
        "<a href=\"https://colab.research.google.com/github/lovellbrian/Chollet/blob/main/DogsVsCats.ipynb\" target=\"_parent\"><img src=\"https://colab.research.google.com/assets/colab-badge.svg\" alt=\"Open In Colab\"/></a>"
      ]
    },
    {
      "cell_type": "markdown",
      "metadata": {
        "id": "lZZ_7ZO31nsO"
      },
      "source": [
        "Chollet p131\n",
        "\n",
        "Unsurprisingly, the dogs-versus-cats Kaggle competition in 2013 was won by entrants\n",
        "who used convnets. The best entries achieved up to 95% accuracy. In this example,\n",
        "you’ll get fairly close to this accuracy (in the next section), even though you’ll train\n",
        "your models on less than 10% of the data that was available to the competitors.\n",
        "This dataset contains 25,000 images of dogs and cats (12,500 from each class) and\n",
        "is 543 MB (compressed). After downloading and uncompressing it, you’ll create a new\n",
        "dataset containing three subsets: a training set with 1,000 samples of each class, a validation\n",
        "set with 500 samples of each class, and a test set with 500 samples of each class."
      ]
    },
    {
      "cell_type": "code",
      "metadata": {
        "id": "dZaGDPME1mnD"
      },
      "source": [
        "import os, shutil\n",
        "original_dataset_dir = '/Users/fchollet/Downloads/kaggle_original_data'\n",
        "base_dir = '/Users/fchollet/Downloads/cats_and_dogs_small'\n",
        "os.mkdir(base_dir)\n",
        "train_dir = os.path.join(base_dir, 'train')\n",
        "os.mkdir(train_dir)\n",
        "validation_dir = os.path.join(base_dir, 'validation')\n",
        "os.mkdir(validation_dir)\n",
        "test_dir = os.path.join(base_dir, 'test')\n",
        "os.mkdir(test_dir)\n",
        "train_cats_dir = os.path.join(train_dir, 'cats')\n",
        "os.mkdir(train_cats_dir)\n",
        "train_dogs_dir = os.path.join(train_dir, 'dogs')\n",
        "os.mkdir(train_dogs_dir)\n",
        "validation_cats_dir = os.path.join(validation_dir, 'cats')\n",
        "os.mkdir(validation_cats_dir)\n",
        "validation_dogs_dir = os.path.join(validation_dir, 'dogs')\n",
        "os.mkdir(validation_dogs_dir)\n",
        "test_cats_dir = os.path.join(test_dir, 'cats')\n",
        "os.mkdir(test_cats_dir)\n",
        "test_dogs_dir = os.path.join(test_dir, 'dogs')\n",
        "os.mkdir(test_dogs_dir)\n",
        "fnames = ['cat.{}.jpg'.format(i) for i in range(1000)]\n",
        "for fname in fnames:\n",
        "src = os.path.join(original_dataset_dir, fname)\n",
        "dst = os.path.join(train_cats_dir, fname)\n",
        "shutil.copyfile(src, dst)\n",
        "fnames = ['cat.{}.jpg'.format(i) for i in range(1000, 1500)]\n",
        "for fname in fnames:\n",
        "src = os.path.join(original_dataset_dir, fname)\n",
        "dst = os.path.join(validation_cats_dir, fname)\n",
        "shutil.copyfile(src, dst)\n",
        "fnames = ['cat.{}.jpg'.format(i) for i in range(1500, 2000)]\n",
        "for fname in fnames:\n",
        "src = os.path.join(original_dataset_dir, fname)\n",
        "dst = os.path.join(test_cats_dir, fname)\n",
        "shutil.copyfile(src, dst)\n",
        "fnames = ['dog.{}.jpg'.format(i) for i in range(1000)]\n",
        "for fname in fnames:\n",
        "src = os.path.join(original_dataset_dir, fname)\n",
        "dst = os.path.join(train_dogs_dir, fname)\n",
        "shutil.copyfile(src, dst)\n",
        "fnames = ['dog.{}.jpg'.format(i) for i in range(1000, 1500)]\n",
        "for fname in fnames:\n",
        "src = os.path.join(original_dataset_dir, fname)\n",
        "dst = os.path.join(validation_dogs_dir, fname)\n",
        "shutil.copyfile(src, dst)\n",
        "fnames = ['dog.{}.jpg'.format(i) for i in range(1500, 2000)]\n",
        "for fname in fnames:\n",
        "src = os.path.join(original_dataset_dir, fname)\n",
        "dst = os.path.join(test_dogs_dir, fname)\n",
        "shutil.copyfile(src, dst)"
      ],
      "execution_count": null,
      "outputs": []
    }
  ]
}